{
 "cells": [
  {
   "cell_type": "code",
   "execution_count": 4,
   "metadata": {},
   "outputs": [],
   "source": [
    "from __future__ import print_function\n",
    "import torch\n",
    "import torchvision\n",
    "import matplotlib.pyplot as plt\n",
    "import cv2\n",
    "import numpy as np\n",
    "import shapely\n",
    "from shapely.geometry import Polygon,MultiPoint"
   ]
  },
  {
   "cell_type": "code",
   "execution_count": 5,
   "metadata": {},
   "outputs": [],
   "source": [
    "# get a viusalization \n",
    "imgfile = \"pcd0100r\"\n",
    "img = plt.imread(\"{}.png\".format(imgfile))"
   ]
  },
  {
   "cell_type": "code",
   "execution_count": 6,
   "metadata": {},
   "outputs": [
    {
     "name": "stdout",
     "output_type": "stream",
     "text": [
      "16\n",
      "Processing 1 box\n",
      "[[253 319]\n",
      " [309 324]\n",
      " [307 350]\n",
      " [251 345]]\n",
      "Processing 2 box\n",
      "[[255 324]\n",
      " [308 332]\n",
      " [313 295]\n",
      " [260 287]]\n",
      "Processing 3 box\n",
      "[[260 303]\n",
      " [311 309]\n",
      " [314 283]\n",
      " [263 277]]\n",
      "Processing 4 box\n",
      "[[258 279]\n",
      " [320 282]\n",
      " [321 261]\n",
      " [259 258]]\n"
     ]
    }
   ],
   "source": [
    "a = np.loadtxt('pcd0100cpos.txt')\n",
    "boxes = []\n",
    "box = []\n",
    "print(a.shape[0])\n",
    "\n",
    "for i in range(a.shape[0]):\n",
    "    if i%4 ==0:\n",
    "        print(\"Processing %d box\" %(i/4+1))\n",
    "        box = [a[i],a[i+1],a[i+2],a[i+3]]\n",
    "        box = np.int0(box)\n",
    "        boxes.append(box)\n",
    "        print(box)\n",
    "#print(boxes)"
   ]
  },
  {
   "cell_type": "code",
   "execution_count": null,
   "metadata": {},
   "outputs": [],
   "source": [
    "img = cv2.imread(\"{}.png\".format(imgfile)) \n",
    "cv2.namedWindow(\"Image\") \n",
    "for eachbox in boxes:\n",
    "    box = eachbox\n",
    "    cv2.drawContours(img, [box], 0, (0, 255, 0), 1) \n",
    "\n",
    "\n",
    "#cv2.imshow('Image', img)\n",
    "#cv2.waitKey (0)\n",
    "cv2.imwrite(\"test.png\", img)\n",
    "cv2.destroyAllWindows()"
   ]
  },
  {
   "cell_type": "code",
   "execution_count": 18,
   "metadata": {},
   "outputs": [],
   "source": [
    "def caliou(box1,box2):\n",
    "    poly1 = Polygon(box1).convex_hull  #四个点顺序为：左上 左下  右下 右上 左上\n",
    "    #print(poly1)\n",
    "    poly2 = Polygon(box2).convex_hull  \n",
    "    #print(poly2)\n",
    "    if not poly1.intersects(poly2): #如果两四边形不相交\n",
    "        iou = 0\n",
    "    else:\n",
    "        iou = poly1.intersection(poly2).area / poly1.union(poly2).area\n",
    "    print(iou)\n",
    "    "
   ]
  },
  {
   "cell_type": "code",
   "execution_count": 22,
   "metadata": {},
   "outputs": [
    {
     "name": "stdout",
     "output_type": "stream",
     "text": [
      "0.1104685485143284\n"
     ]
    }
   ],
   "source": [
    "caliou(boxes[0],boxes[1])"
   ]
  },
  {
   "cell_type": "code",
   "execution_count": 8,
   "metadata": {},
   "outputs": [
    {
     "name": "stdout",
     "output_type": "stream",
     "text": [
      "pcd0100r.png\n"
     ]
    }
   ],
   "source": [
    "imgfile = \"pcd0100r\"\n",
    "i = 0\n",
    "a = \"pcd0\"+\"{}\".format(100 + i) + \"r.png\"\n",
    "b = \"pcd0\"+\"{}\".format(100 + i) + \"cpos.txt\"\n",
    "print(a)"
   ]
  },
  {
   "cell_type": "code",
   "execution_count": 6,
   "metadata": {},
   "outputs": [],
   "source": [
    "img = cv2.imread(a)"
   ]
  },
  {
   "cell_type": "code",
   "execution_count": 9,
   "metadata": {},
   "outputs": [],
   "source": [
    "a = np.loadtxt(b)"
   ]
  },
  {
   "cell_type": "code",
   "execution_count": 11,
   "metadata": {},
   "outputs": [
    {
     "data": {
      "text/plain": [
       "array([[253.   , 319.7  ],\n",
       "       [309.   , 324.   ],\n",
       "       [307.   , 350.   ],\n",
       "       [251.   , 345.7  ],\n",
       "       [255.   , 324.877],\n",
       "       [308.   , 332.   ],\n",
       "       [313.   , 295.   ],\n",
       "       [260.   , 287.877],\n",
       "       [260.   , 303.092],\n",
       "       [311.   , 309.   ],\n",
       "       [314.   , 283.   ],\n",
       "       [263.   , 277.092],\n",
       "       [258.   , 279.048],\n",
       "       [320.   , 282.   ],\n",
       "       [321.   , 261.   ],\n",
       "       [259.   , 258.048]])"
      ]
     },
     "execution_count": 11,
     "metadata": {},
     "output_type": "execute_result"
    }
   ],
   "source": [
    "a"
   ]
  },
  {
   "cell_type": "code",
   "execution_count": null,
   "metadata": {},
   "outputs": [],
   "source": []
  }
 ],
 "metadata": {
  "kernelspec": {
   "display_name": "Python 3",
   "language": "python",
   "name": "python3"
  },
  "language_info": {
   "codemirror_mode": {
    "name": "ipython",
    "version": 3
   },
   "file_extension": ".py",
   "mimetype": "text/x-python",
   "name": "python",
   "nbconvert_exporter": "python",
   "pygments_lexer": "ipython3",
   "version": "3.6.5"
  }
 },
 "nbformat": 4,
 "nbformat_minor": 2
}
