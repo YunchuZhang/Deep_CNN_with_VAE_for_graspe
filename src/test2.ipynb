{
 "cells": [
  {
   "cell_type": "code",
   "execution_count": 1,
   "metadata": {},
   "outputs": [],
   "source": [
    "from __future__ import print_function\n",
    "import torch\n",
    "import torchvision\n",
    "import matplotlib.pyplot as plt\n",
    "import cv2\n",
    "import numpy as np\n",
    "import shapely\n",
    "from shapely.geometry import Polygon,MultiPoint\n",
    "from torchvision import models\n",
    "import torch.nn as nn"
   ]
  },
  {
   "cell_type": "code",
   "execution_count": 2,
   "metadata": {},
   "outputs": [],
   "source": [
    "model = models.resnet18(pretrained = False)\n",
    "fc_features = model.fc.in_features\n",
    "model.fc = nn.Linear(fc_features,384)"
   ]
  },
  {
   "cell_type": "code",
   "execution_count": 3,
   "metadata": {},
   "outputs": [],
   "source": [
    "a = np.array([[606, 522,  10,  21, -26],\n",
    "[606, 522,  10,  21, -26],\n",
    "             [606, 522,  10,  21, -26],\n",
    "             [606, 522,  10,  21, -26]])"
   ]
  },
  {
   "cell_type": "code",
   "execution_count": 96,
   "metadata": {},
   "outputs": [
    {
     "name": "stdout",
     "output_type": "stream",
     "text": [
      "((3.0, 3.0), (4.0, 4.0), -90.0)\n",
      "POLYGON ((336.6025390625 163.3974609375, 163.3974609375 263.3974609375, 263.3974609375 436.6025390625, 436.6025390625 336.6025390625, 336.6025390625 163.3974609375))\n",
      "[[163.39746 263.39746]\n",
      " [336.60254 163.39746]\n",
      " [436.60254 336.60254]\n",
      " [263.39746 436.60254]]\n",
      "((299.4999694824219, 299.5), (199.8223876953125, 199.8223876953125), -30.029401779174805)\n"
     ]
    }
   ],
   "source": [
    "import numpy as np\n",
    "\n",
    "cnt = np.array([[1,1],[1,5],[5,5],[5,1]]) # 必须是array数组的形式\n",
    "\n",
    "rect = cv2.minAreaRect(cnt) # 得到最小外接矩形的（中心(x,y), (宽,高), 旋转角度）\n",
    "\n",
    "print(rect)\n",
    "\n",
    "rect1 = ((300.0, 300.0), (200.0, 200.0),60.0)\n",
    "\n",
    "box = cv2.boxPoints(rect1) # cv2.boxPoints(rect) for OpenCV 3.x 获取最小外接矩形的4个顶点\n",
    "print(Polygon(box).convex_hull)\n",
    "print(box)\n",
    "box = np.int0(box)\n",
    "print(cv2.minAreaRect(box) )\n",
    "#cv2.drawContours(img, [box], 0, (0, 0, 255), 2)\n"
   ]
  },
  {
   "cell_type": "code",
   "execution_count": 9,
   "metadata": {},
   "outputs": [
    {
     "name": "stdout",
     "output_type": "stream",
     "text": [
      "<class 'numpy.ndarray'>\n",
      "(1024, 1024, 3)\n"
     ]
    }
   ],
   "source": [
    "img = cv2.imread(\"{}.png\".format(14)) \n",
    "print(type(img))\n",
    "print(img.shape)"
   ]
  },
  {
   "cell_type": "code",
   "execution_count": 7,
   "metadata": {},
   "outputs": [],
   "source": [
    "a = np.array([[606, 522,  10,  21, -26],\n",
    "[606, 522,  10,  21, -26],\n",
    "             [606, 522,  10,  21, -26],\n",
    "             [606, 522,  10,  21, -26]])"
   ]
  },
  {
   "cell_type": "code",
   "execution_count": 8,
   "metadata": {},
   "outputs": [
    {
     "data": {
      "text/plain": [
       "array([[606, 522,  10,  21, -26],\n",
       "       [606, 522,  10,  21, -26],\n",
       "       [606, 522,  10,  21, -26],\n",
       "       [606, 522,  10,  21, -26]])"
      ]
     },
     "execution_count": 8,
     "metadata": {},
     "output_type": "execute_result"
    }
   ],
   "source": [
    "a"
   ]
  },
  {
   "cell_type": "code",
   "execution_count": 6,
   "metadata": {},
   "outputs": [
    {
     "data": {
      "text/plain": [
       "7"
      ]
     },
     "execution_count": 6,
     "metadata": {},
     "output_type": "execute_result"
    }
   ],
   "source": [
    "int(7.999)"
   ]
  },
  {
   "cell_type": "code",
   "execution_count": 99,
   "metadata": {},
   "outputs": [
    {
     "name": "stdout",
     "output_type": "stream",
     "text": [
      "tensor([[[ 0.1765, -1.9168,  1.7381, -1.0750,  1.2845, -1.0576],\n",
      "         [-0.2025,  0.9610, -1.5827, -1.3296,  1.5626,  2.4105],\n",
      "         [-1.2492,  0.5375,  1.1566, -0.7512, -2.1055, -0.9719],\n",
      "         [-0.8304,  0.3109,  0.0688,  0.3912, -1.7305,  2.1093]],\n",
      "\n",
      "        [[ 0.3666,  1.0640, -1.2060,  0.5374, -0.0543,  0.1310],\n",
      "         [-1.6427, -1.2656,  0.3952,  0.5391,  0.9398, -1.9632],\n",
      "         [ 0.7947, -0.9371, -2.2248, -0.9662,  0.2868, -2.6505],\n",
      "         [ 0.3324, -0.3700, -0.3953,  0.6186, -1.7269, -0.2804]]])\n"
     ]
    }
   ],
   "source": [
    "x = torch.randn(2, 4, 6)\n",
    "print(x)"
   ]
  },
  {
   "cell_type": "code",
   "execution_count": 100,
   "metadata": {},
   "outputs": [
    {
     "name": "stdout",
     "output_type": "stream",
     "text": [
      "(tensor([[[ 0.1765],\n",
      "         [-0.2025],\n",
      "         [-1.2492],\n",
      "         [-0.8304]],\n",
      "\n",
      "        [[ 0.3666],\n",
      "         [-1.6427],\n",
      "         [ 0.7947],\n",
      "         [ 0.3324]]]), tensor([[[-1.9168],\n",
      "         [ 0.9610],\n",
      "         [ 0.5375],\n",
      "         [ 0.3109]],\n",
      "\n",
      "        [[ 1.0640],\n",
      "         [-1.2656],\n",
      "         [-0.9371],\n",
      "         [-0.3700]]]), tensor([[[ 1.7381],\n",
      "         [-1.5827],\n",
      "         [ 1.1566],\n",
      "         [ 0.0688]],\n",
      "\n",
      "        [[-1.2060],\n",
      "         [ 0.3952],\n",
      "         [-2.2248],\n",
      "         [-0.3953]]]), tensor([[[-1.0750],\n",
      "         [-1.3296],\n",
      "         [-0.7512],\n",
      "         [ 0.3912]],\n",
      "\n",
      "        [[ 0.5374],\n",
      "         [ 0.5391],\n",
      "         [-0.9662],\n",
      "         [ 0.6186]]]), tensor([[[ 1.2845],\n",
      "         [ 1.5626],\n",
      "         [-2.1055],\n",
      "         [-1.7305]],\n",
      "\n",
      "        [[-0.0543],\n",
      "         [ 0.9398],\n",
      "         [ 0.2868],\n",
      "         [-1.7269]]]), tensor([[[-1.0576],\n",
      "         [ 2.4105],\n",
      "         [-0.9719],\n",
      "         [ 2.1093]],\n",
      "\n",
      "        [[ 0.1310],\n",
      "         [-1.9632],\n",
      "         [-2.6505],\n",
      "         [-0.2804]]]))\n"
     ]
    }
   ],
   "source": [
    "a= torch.split(x,1, dim=2) \n",
    "print(a)\n",
    "a,b,c,d,e,f = a"
   ]
  },
  {
   "cell_type": "code",
   "execution_count": 150,
   "metadata": {},
   "outputs": [
    {
     "data": {
      "text/plain": [
       "tensor([[[ 0.5643, -0.7426,  0.0868, -0.4582, -1.3775,  2.0045],\n",
       "         [-1.9216,  0.3849,  0.4712, -0.8824,  0.2958, -0.4918],\n",
       "         [-0.8246,  1.4874, -0.0049,  0.7959, -0.4344, -0.1679],\n",
       "         [-1.2201,  0.0290,  1.0291, -0.9009, -1.1445, -0.1303]],\n",
       "\n",
       "        [[ 0.5058,  1.3449,  0.1524, -1.2777,  1.3667,  0.7691],\n",
       "         [ 0.7150,  0.6390, -0.4522,  0.9605, -1.6642, -0.0323],\n",
       "         [-0.9204, -2.0705, -0.6348,  1.8126, -1.0998,  1.0361],\n",
       "         [-0.4624,  0.6058,  0.1375, -1.2240,  1.4714,  1.4166]],\n",
       "\n",
       "        [[-0.2585, -1.4957, -0.8655, -1.1410,  0.2746, -0.0361],\n",
       "         [-0.7117, -0.1402,  0.7039, -2.7702, -0.0539,  1.2939],\n",
       "         [ 2.5831, -0.3017,  1.2561,  1.2721, -0.3897,  0.3225],\n",
       "         [ 0.5322,  0.7600, -1.0736,  1.0838, -0.0070, -2.0435]]])"
      ]
     },
     "execution_count": 150,
     "metadata": {},
     "output_type": "execute_result"
    }
   ],
   "source": [
    "x = torch.randn(3, 4, 6)\n",
    "x"
   ]
  },
  {
   "cell_type": "code",
   "execution_count": 151,
   "metadata": {},
   "outputs": [
    {
     "data": {
      "text/plain": [
       "tensor([[ 0.5643, -1.9216, -0.8246, -1.2201],\n",
       "        [ 0.5058,  0.7150, -0.9204, -0.4624],\n",
       "        [-0.2585, -0.7117,  2.5831,  0.5322]])"
      ]
     },
     "execution_count": 151,
     "metadata": {},
     "output_type": "execute_result"
    }
   ],
   "source": [
    "xc = x[:,:,0] \n",
    "xc"
   ]
  },
  {
   "cell_type": "code",
   "execution_count": 153,
   "metadata": {},
   "outputs": [
    {
     "name": "stdout",
     "output_type": "stream",
     "text": [
      "tensor([[1., 0., 0., 0.],\n",
      "        [1., 1., 0., 0.],\n",
      "        [0., 0., 1., 1.]])\n"
     ]
    },
    {
     "data": {
      "text/plain": [
       "tensor([[0.5643, -0.0000, -0.0000, -0.0000],\n",
       "        [0.5058, 0.7150, -0.0000, -0.0000],\n",
       "        [-0.0000, -0.0000, 2.5831, 0.5322]])"
      ]
     },
     "execution_count": 153,
     "metadata": {},
     "output_type": "execute_result"
    }
   ],
   "source": [
    "d = xc>0.4\n",
    "d = d.float()\n",
    "print(d)\n",
    "d*xc"
   ]
  },
  {
   "cell_type": "code",
   "execution_count": 63,
   "metadata": {},
   "outputs": [],
   "source": [
    "loss_fn = torch.nn.MSELoss(size_average=False)"
   ]
  },
  {
   "cell_type": "code",
   "execution_count": 64,
   "metadata": {},
   "outputs": [],
   "source": [
    "a=torch.tensor([[1,2,3,4,5,6],[3,4,5,6,7,8]])\n",
    "\n",
    "b=torch.tensor([[2,3],[4,4]])\n",
    "loss = loss_fn(a.float(), b.float())"
   ]
  },
  {
   "cell_type": "code",
   "execution_count": 65,
   "metadata": {},
   "outputs": [
    {
     "data": {
      "text/plain": [
       "tensor(3.)"
      ]
     },
     "execution_count": 65,
     "metadata": {},
     "output_type": "execute_result"
    }
   ],
   "source": [
    "loss"
   ]
  },
  {
   "cell_type": "code",
   "execution_count": 87,
   "metadata": {},
   "outputs": [],
   "source": [
    "a=26"
   ]
  },
  {
   "cell_type": "code",
   "execution_count": 88,
   "metadata": {},
   "outputs": [
    {
     "data": {
      "text/plain": [
       "3"
      ]
     },
     "execution_count": 88,
     "metadata": {},
     "output_type": "execute_result"
    }
   ],
   "source": [
    "a//8"
   ]
  },
  {
   "cell_type": "code",
   "execution_count": 89,
   "metadata": {},
   "outputs": [
    {
     "data": {
      "text/plain": [
       "26"
      ]
     },
     "execution_count": 89,
     "metadata": {},
     "output_type": "execute_result"
    }
   ],
   "source": [
    "a"
   ]
  },
  {
   "cell_type": "code",
   "execution_count": 90,
   "metadata": {},
   "outputs": [
    {
     "data": {
      "text/plain": [
       "2"
      ]
     },
     "execution_count": 90,
     "metadata": {},
     "output_type": "execute_result"
    }
   ],
   "source": [
    "a-8*(a//8)"
   ]
  },
  {
   "cell_type": "code",
   "execution_count": 76,
   "metadata": {},
   "outputs": [
    {
     "data": {
      "text/plain": [
       "7"
      ]
     },
     "execution_count": 76,
     "metadata": {},
     "output_type": "execute_result"
    }
   ],
   "source": [
    "int(0.9999*8)"
   ]
  },
  {
   "cell_type": "code",
   "execution_count": 148,
   "metadata": {},
   "outputs": [],
   "source": [
    "acc = (2,3,4,5,655,3,21,2)[0]"
   ]
  },
  {
   "cell_type": "code",
   "execution_count": 149,
   "metadata": {},
   "outputs": [
    {
     "data": {
      "text/plain": [
       "2"
      ]
     },
     "execution_count": 149,
     "metadata": {},
     "output_type": "execute_result"
    }
   ],
   "source": [
    "acc"
   ]
  },
  {
   "cell_type": "code",
   "execution_count": null,
   "metadata": {},
   "outputs": [],
   "source": []
  }
 ],
 "metadata": {
  "kernelspec": {
   "display_name": "Python 3",
   "language": "python",
   "name": "python3"
  },
  "language_info": {
   "codemirror_mode": {
    "name": "ipython",
    "version": 3
   },
   "file_extension": ".py",
   "mimetype": "text/x-python",
   "name": "python",
   "nbconvert_exporter": "python",
   "pygments_lexer": "ipython3",
   "version": "3.6.5"
  }
 },
 "nbformat": 4,
 "nbformat_minor": 2
}
